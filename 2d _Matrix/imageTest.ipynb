{
 "cells": [
  {
   "cell_type": "code",
   "execution_count": 1,
   "id": "8abb0536-b313-44c5-b9df-db00ae6605d9",
   "metadata": {},
   "outputs": [],
   "source": [
    "import os\n",
    "import numpy as np\n",
    "from PIL import Image\n"
   ]
  },
  {
   "cell_type": "code",
   "execution_count": 2,
   "id": "7fbc960b-b70f-4011-993e-210709ce7fde",
   "metadata": {},
   "outputs": [],
   "source": [
    "def binary_file_to_image(filepath, size=(64, 64)):\n",
    "    with open(filepath, 'rb') as fname:\n",
    "        byte_arr = np.frombuffer(fname.read(), dtype=np.uint8)\n",
    "    \n",
    "    # Flatten or pad the array to fit the target image size\n",
    "    desired_size = size[0] * size[1]\n",
    "    if len(byte_arr) > desired_size:\n",
    "        byte_arr = byte_arr[:desired_size]\n",
    "    else:\n",
    "        byte_arr = np.pad(byte_arr, (0, desired_size - len(byte_arr)), 'constant', constant_values=0)\n",
    "\n",
    "    image = byte_arr.reshape(size)\n",
    "    return image"
   ]
  },
  {
   "cell_type": "code",
   "execution_count": 6,
   "id": "044837f6-2d36-4509-afbb-0ecced28e771",
   "metadata": {},
   "outputs": [],
   "source": [
    "def load_dataset(folder_path, size=(64, 64)):\n",
    "    X, y = [], []\n",
    "    for label, subfolder in enumerate(['ben', 'mal']):\n",
    "        class_folder = os.path.join(folder_path, subfolder)\n",
    "        for file_name in os.listdir(class_folder):\n",
    "            file_path = os.path.join(class_folder, file_name)\n",
    "            try:\n",
    "                img = binary_file_to_image(file_path, size)\n",
    "                X.append(img)\n",
    "                y.append(label)\n",
    "            except Exception as e:\n",
    "                print(f\"Error processing {file_path}: {e}\")\n",
    "    return np.array(X), np.array(y)"
   ]
  },
  {
   "cell_type": "code",
   "execution_count": 8,
   "id": "feb32963-998b-4121-bc97-04483ff5761f",
   "metadata": {},
   "outputs": [
    {
     "name": "stdout",
     "output_type": "stream",
     "text": [
      "Error processing dataset/valid/ben\\0f55c132ec68d90ceb0fa6a7016e598d7223186a8b152c9f694f64954e1ace28: [Errno 22] Invalid argument: 'dataset/valid/ben\\\\0f55c132ec68d90ceb0fa6a7016e598d7223186a8b152c9f694f64954e1ace28'\n",
      "Error processing dataset/valid/ben\\e81adf93f61a5484671cb5fa8a58fcb10eb2b7fbcb0bba98ccfd7a0c8c29417f: [Errno 22] Invalid argument: 'dataset/valid/ben\\\\e81adf93f61a5484671cb5fa8a58fcb10eb2b7fbcb0bba98ccfd7a0c8c29417f'\n",
      "Error processing dataset/test/mal\\75f17f504ef17a7cac90e4e0f314a1a1a4835603a51d8a95d06f55bab7ba3c0d: [Errno 22] Invalid argument: 'dataset/test/mal\\\\75f17f504ef17a7cac90e4e0f314a1a1a4835603a51d8a95d06f55bab7ba3c0d'\n"
     ]
    },
    {
     "name": "stderr",
     "output_type": "stream",
     "text": [
      "C:\\Users\\heran\\anaconda3\\Lib\\site-packages\\keras\\src\\layers\\convolutional\\base_conv.py:107: UserWarning: Do not pass an `input_shape`/`input_dim` argument to a layer. When using Sequential models, prefer using an `Input(shape)` object as the first layer in the model instead.\n",
      "  super().__init__(activity_regularizer=activity_regularizer, **kwargs)\n"
     ]
    },
    {
     "name": "stdout",
     "output_type": "stream",
     "text": [
      "Epoch 1/10\n",
      "\u001b[1m1/1\u001b[0m \u001b[32m━━━━━━━━━━━━━━━━━━━━\u001b[0m\u001b[37m\u001b[0m \u001b[1m5s\u001b[0m 5s/step - accuracy: 0.8000 - loss: 0.6518 - val_accuracy: 0.7273 - val_loss: 0.9059\n",
      "Epoch 2/10\n",
      "\u001b[1m1/1\u001b[0m \u001b[32m━━━━━━━━━━━━━━━━━━━━\u001b[0m\u001b[37m\u001b[0m \u001b[1m1s\u001b[0m 654ms/step - accuracy: 1.0000 - loss: 0.2255 - val_accuracy: 0.7273 - val_loss: 1.8077\n",
      "Epoch 3/10\n",
      "\u001b[1m1/1\u001b[0m \u001b[32m━━━━━━━━━━━━━━━━━━━━\u001b[0m\u001b[37m\u001b[0m \u001b[1m0s\u001b[0m 260ms/step - accuracy: 1.0000 - loss: 0.1063 - val_accuracy: 0.7273 - val_loss: 2.9796\n",
      "Epoch 4/10\n",
      "\u001b[1m1/1\u001b[0m \u001b[32m━━━━━━━━━━━━━━━━━━━━\u001b[0m\u001b[37m\u001b[0m \u001b[1m0s\u001b[0m 203ms/step - accuracy: 1.0000 - loss: 0.0439 - val_accuracy: 0.7273 - val_loss: 4.3896\n",
      "Epoch 5/10\n",
      "\u001b[1m1/1\u001b[0m \u001b[32m━━━━━━━━━━━━━━━━━━━━\u001b[0m\u001b[37m\u001b[0m \u001b[1m0s\u001b[0m 229ms/step - accuracy: 1.0000 - loss: 0.0139 - val_accuracy: 0.7273 - val_loss: 5.9913\n",
      "Epoch 6/10\n",
      "\u001b[1m1/1\u001b[0m \u001b[32m━━━━━━━━━━━━━━━━━━━━\u001b[0m\u001b[37m\u001b[0m \u001b[1m0s\u001b[0m 231ms/step - accuracy: 1.0000 - loss: 0.0036 - val_accuracy: 0.7273 - val_loss: 7.7096\n",
      "Epoch 7/10\n",
      "\u001b[1m1/1\u001b[0m \u001b[32m━━━━━━━━━━━━━━━━━━━━\u001b[0m\u001b[37m\u001b[0m \u001b[1m0s\u001b[0m 276ms/step - accuracy: 1.0000 - loss: 8.3149e-04 - val_accuracy: 0.7273 - val_loss: 9.4766\n",
      "Epoch 8/10\n",
      "\u001b[1m1/1\u001b[0m \u001b[32m━━━━━━━━━━━━━━━━━━━━\u001b[0m\u001b[37m\u001b[0m \u001b[1m0s\u001b[0m 245ms/step - accuracy: 1.0000 - loss: 1.8436e-04 - val_accuracy: 0.7273 - val_loss: 11.2424\n",
      "Epoch 9/10\n",
      "\u001b[1m1/1\u001b[0m \u001b[32m━━━━━━━━━━━━━━━━━━━━\u001b[0m\u001b[37m\u001b[0m \u001b[1m0s\u001b[0m 289ms/step - accuracy: 1.0000 - loss: 4.0772e-05 - val_accuracy: 0.7273 - val_loss: 12.9776\n",
      "Epoch 10/10\n",
      "\u001b[1m1/1\u001b[0m \u001b[32m━━━━━━━━━━━━━━━━━━━━\u001b[0m\u001b[37m\u001b[0m \u001b[1m0s\u001b[0m 323ms/step - accuracy: 1.0000 - loss: 9.2056e-06 - val_accuracy: 0.7273 - val_loss: 14.6627\n",
      "\u001b[1m1/1\u001b[0m \u001b[32m━━━━━━━━━━━━━━━━━━━━\u001b[0m\u001b[37m\u001b[0m \u001b[1m0s\u001b[0m 136ms/step - accuracy: 0.6154 - loss: 24.6009\n",
      "Test accuracy: 0.6154\n"
     ]
    }
   ],
   "source": [
    "from sklearn.model_selection import train_test_split\n",
    "from tensorflow.keras import layers, models\n",
    "\n",
    "# Load datasets with 10\n",
    "train_X, train_y = load_dataset('dataset/train/')\n",
    "val_X, val_y = load_dataset('dataset/valid/')\n",
    "test_X, test_y = load_dataset('dataset/test/')\n",
    "\n",
    "# Load datasets with 500\n",
    "#train_X, train_y = load_dataset('dataset1/train/')\n",
    "#val_X, val_y = load_dataset('dataset1/valid/')\n",
    "#test_X, test_y = load_dataset('dataset1/test/')\n",
    "\n",
    "# Normalize and reshape for CNN\n",
    "train_X = train_X / 255.0\n",
    "val_X = val_X / 255.0\n",
    "test_X = test_X / 255.0\n",
    "\n",
    "train_X = train_X[..., np.newaxis]\n",
    "val_X = val_X[..., np.newaxis]\n",
    "test_X = test_X[..., np.newaxis]\n",
    "\n",
    "# CNN model\n",
    "model = models.Sequential([\n",
    "    layers.Conv2D(32, (3, 3), activation='relu', input_shape=train_X.shape[1:]),\n",
    "    layers.MaxPooling2D(2, 2),\n",
    "\n",
    "    layers.Conv2D(64, (3, 3), activation='relu'),\n",
    "    layers.MaxPooling2D(2, 2),\n",
    "\n",
    "    layers.Flatten(),\n",
    "    layers.Dense(64, activation='relu'),\n",
    "    layers.Dense(1, activation='sigmoid')\n",
    "])\n",
    "\n",
    "model.compile(optimizer='adam',\n",
    "              loss='binary_crossentropy',\n",
    "              metrics=['accuracy'])\n",
    "\n",
    "# Train the model\n",
    "model.fit(train_X, train_y, validation_data=(val_X, val_y), epochs=10, batch_size=32)\n",
    "\n",
    "# Evaluate\n",
    "test_loss, test_acc = model.evaluate(test_X, test_y)\n",
    "print(f'Test accuracy: {test_acc:.4f}')\n"
   ]
  },
  {
   "cell_type": "code",
   "execution_count": null,
   "id": "c4ddcdc6-17b1-41b8-907b-f1fd11e699d7",
   "metadata": {},
   "outputs": [],
   "source": []
  }
 ],
 "metadata": {
  "kernelspec": {
   "display_name": "Python 3 (ipykernel)",
   "language": "python",
   "name": "python3"
  },
  "language_info": {
   "codemirror_mode": {
    "name": "ipython",
    "version": 3
   },
   "file_extension": ".py",
   "mimetype": "text/x-python",
   "name": "python",
   "nbconvert_exporter": "python",
   "pygments_lexer": "ipython3",
   "version": "3.12.4"
  }
 },
 "nbformat": 4,
 "nbformat_minor": 5
}
