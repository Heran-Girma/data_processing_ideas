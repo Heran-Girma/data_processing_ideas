{
 "cells": [
  {
   "cell_type": "markdown",
   "id": "92cfbd82",
   "metadata": {},
   "source": [
    "# Deep Learning Project\n",
    "\n",
    "This notebook combines models and techniques from two separate CNN-based approaches to malware classification in order to improve accuracy."
   ]
  },
  {
   "cell_type": "markdown",
   "id": "65d0f7cf",
   "metadata": {},
   "source": [
    "## Part 1: Base CNN Model"
   ]
  },
  {
   "cell_type": "code",
   "execution_count": 1,
   "id": "16eafdb0",
   "metadata": {},
   "outputs": [
    {
     "name": "stdout",
     "output_type": "stream",
     "text": [
      "train/ben: 10922 files\n",
      "train/mal: 10922 files\n",
      "valid/ben: 2500 files\n",
      "valid/mal: 2446 files\n",
      "test/ben: 10000 files\n",
      "test/mal: 10000 files\n"
     ]
    }
   ],
   "source": [
    "import os\n",
    "import numpy as np\n",
    "from pathlib import Path\n",
    "from tqdm import tqdm\n",
    "from sklearn.model_selection import train_test_split\n",
    "\n",
    "# For PyTorch or TensorFlow later\n",
    "# import torch\n",
    "# from torch.utils.data import Dataset, DataLoader\n",
    "\n",
    "DATA_DIR = Path(r\"D:\\project\\myJupyter\\deep-learning-with-python-notebooks-master\\data_exe_100000\")\n",
    "for split in ['train', 'valid', 'test']:\n",
    "    for label in ['ben', 'mal']:\n",
    "        files = list((DATA_DIR / split / label).glob('*'))\n",
    "        print(f\"{split}/{label}: {len(files)} files\")\n",
    "\n",
    "MAX_LEN = 10000  # Number of bytes per file (pad/truncate to this length)\n",
    "\n",
    "def load_binary_file(path, max_len=MAX_LEN):\n",
    "    with open(path, 'rb') as f:\n",
    "        bytez = f.read()\n",
    "    byte_arr = np.frombuffer(bytez, dtype=np.uint8)\n",
    "    if len(byte_arr) > max_len:\n",
    "        byte_arr = byte_arr[:max_len]\n",
    "    else:\n",
    "        byte_arr = np.pad(byte_arr, (0, max_len - len(byte_arr)), 'constant')\n",
    "    return byte_arr"
   ]
  },
  {
   "cell_type": "code",
   "execution_count": 2,
   "id": "40e9ba9a",
   "metadata": {},
   "outputs": [
    {
     "name": "stdout",
     "output_type": "stream",
     "text": [
      "Loading ben files from D:\\project\\myJupyter\\deep-learning-with-python-notebooks-master\\data_exe_100000\\train\\ben\n"
     ]
    },
    {
     "name": "stderr",
     "output_type": "stream",
     "text": [
      "10922it [01:28, 123.08it/s]\n"
     ]
    },
    {
     "name": "stdout",
     "output_type": "stream",
     "text": [
      "Loading mal files from D:\\project\\myJupyter\\deep-learning-with-python-notebooks-master\\data_exe_100000\\train\\mal\n"
     ]
    },
    {
     "name": "stderr",
     "output_type": "stream",
     "text": [
      "10922it [02:00, 90.60it/s] \n"
     ]
    },
    {
     "name": "stdout",
     "output_type": "stream",
     "text": [
      "Loading ben files from D:\\project\\myJupyter\\deep-learning-with-python-notebooks-master\\data_exe_100000\\valid\\ben\n"
     ]
    },
    {
     "name": "stderr",
     "output_type": "stream",
     "text": [
      "2500it [00:11, 218.68it/s]\n"
     ]
    },
    {
     "name": "stdout",
     "output_type": "stream",
     "text": [
      "Loading mal files from D:\\project\\myJupyter\\deep-learning-with-python-notebooks-master\\data_exe_100000\\valid\\mal\n"
     ]
    },
    {
     "name": "stderr",
     "output_type": "stream",
     "text": [
      "2446it [00:24, 101.72it/s]\n"
     ]
    },
    {
     "name": "stdout",
     "output_type": "stream",
     "text": [
      "Loading ben files from D:\\project\\myJupyter\\deep-learning-with-python-notebooks-master\\data_exe_100000\\test\\ben\n"
     ]
    },
    {
     "name": "stderr",
     "output_type": "stream",
     "text": [
      "10000it [01:36, 103.82it/s]\n"
     ]
    },
    {
     "name": "stdout",
     "output_type": "stream",
     "text": [
      "Loading mal files from D:\\project\\myJupyter\\deep-learning-with-python-notebooks-master\\data_exe_100000\\test\\mal\n"
     ]
    },
    {
     "name": "stderr",
     "output_type": "stream",
     "text": [
      "10000it [01:25, 117.32it/s]\n"
     ]
    },
    {
     "name": "stdout",
     "output_type": "stream",
     "text": [
      "Train shape: (21844, 10000), Labels: [10922 10922]\n",
      "Val shape: (4946, 10000), Labels: [2500 2446]\n",
      "Test shape: (20000, 10000), Labels: [10000 10000]\n"
     ]
    }
   ],
   "source": [
    "def load_dataset(split):\n",
    "    X, y = [], []\n",
    "    for label, folder in enumerate(['ben', 'mal']):\n",
    "        folder_path = DATA_DIR / split / folder\n",
    "        print(f'Loading {folder} files from {folder_path}')\n",
    "        for filepath in tqdm(folder_path.glob('*')):\n",
    "            if filepath.is_file():\n",
    "                X.append(load_binary_file(filepath))\n",
    "                y.append(label)\n",
    "    return np.array(X), np.array(y)\n",
    "\n",
    "# Load a small sample of training data to verify\n",
    "X_train, y_train = load_dataset('train')\n",
    "X_val, y_val = load_dataset('valid')\n",
    "X_test, y_test = load_dataset('test')\n",
    "\n",
    "print(f'Train shape: {X_train.shape}, Labels: {np.bincount(y_train)}')\n",
    "print(f'Val shape: {X_val.shape}, Labels: {np.bincount(y_val)}')\n",
    "print(f'Test shape: {X_test.shape}, Labels: {np.bincount(y_test)}')"
   ]
  },
  {
   "cell_type": "code",
   "execution_count": 3,
   "id": "753d90f4",
   "metadata": {},
   "outputs": [],
   "source": [
    "# Reshape flat arrays (10000,) into (100, 100, 1)\n",
    "X_train_2d = X_train.reshape(-1, 100, 100, 1).astype('float32') / 255.0\n",
    "X_val_2d = X_val.reshape(-1, 100, 100, 1).astype('float32') / 255.0\n",
    "X_test_2d = X_test.reshape(-1, 100, 100, 1).astype('float32') / 255.0\n",
    "\n",
    "# Convert labels to categorical \n",
    "from tensorflow.keras.utils import to_categorical\n",
    "y_train_cat = to_categorical(y_train, 2)\n",
    "y_val_cat = to_categorical(y_val, 2)\n",
    "y_test_cat = to_categorical(y_test, 2)\n"
   ]
  },
  {
   "cell_type": "code",
   "execution_count": 4,
   "id": "4b6f6e9b",
   "metadata": {},
   "outputs": [],
   "source": [
    "from tensorflow.keras.models import Sequential\n",
    "from tensorflow.keras.layers import Input, Conv2D, MaxPooling2D, Flatten, Dense, Dropout, BatchNormalization\n",
    "\n",
    "model = Sequential([\n",
    "    Input(shape=(100, 100, 1)),  # this replaces input_shape in Conv2D\n",
    "\n",
    "    Conv2D(32, (3, 3), activation='relu'),\n",
    "    BatchNormalization(),\n",
    "    MaxPooling2D((2, 2)),\n",
    "    \n",
    "    Conv2D(64, (3, 3), activation='relu'),\n",
    "    BatchNormalization(),\n",
    "    MaxPooling2D((2, 2)),\n",
    "\n",
    "    Conv2D(128, (3, 3), activation='relu'),\n",
    "    BatchNormalization(),\n",
    "    MaxPooling2D((2, 2)),\n",
    "    \n",
    "    Flatten(),\n",
    "    Dropout(0.5),\n",
    "    Dense(128, activation='relu'),\n",
    "    Dense(2, activation='softmax')  # 2 classes: benign, malicious\n",
    "])\n"
   ]
  },
  {
   "cell_type": "code",
   "execution_count": 5,
   "id": "e283af81",
   "metadata": {},
   "outputs": [],
   "source": [
    "model.compile(optimizer='adam',\n",
    "              loss='categorical_crossentropy',\n",
    "              metrics=['accuracy'])\n"
   ]
  },
  {
   "cell_type": "code",
   "execution_count": 6,
   "id": "738510a0",
   "metadata": {
    "scrolled": true
   },
   "outputs": [
    {
     "name": "stdout",
     "output_type": "stream",
     "text": [
      "Epoch 1/20\n",
      "2731/2731 - 163s - 60ms/step - accuracy: 0.6982 - loss: 0.6143 - val_accuracy: 0.7461 - val_loss: 0.5445\n",
      "Epoch 2/20\n",
      "2731/2731 - 167s - 61ms/step - accuracy: 0.7553 - loss: 0.4936 - val_accuracy: 0.7683 - val_loss: 0.4441\n",
      "Epoch 3/20\n",
      "2731/2731 - 176s - 64ms/step - accuracy: 0.7800 - loss: 0.4520 - val_accuracy: 0.7831 - val_loss: 0.4518\n",
      "Epoch 4/20\n",
      "2731/2731 - 178s - 65ms/step - accuracy: 0.8061 - loss: 0.4095 - val_accuracy: 0.7928 - val_loss: 0.4621\n",
      "Epoch 5/20\n",
      "2731/2731 - 174s - 64ms/step - accuracy: 0.8222 - loss: 0.3809 - val_accuracy: 0.8023 - val_loss: 0.4084\n",
      "Epoch 6/20\n",
      "2731/2731 - 177s - 65ms/step - accuracy: 0.8398 - loss: 0.3500 - val_accuracy: 0.8283 - val_loss: 0.3828\n",
      "Epoch 7/20\n",
      "2731/2731 - 176s - 64ms/step - accuracy: 0.8470 - loss: 0.3283 - val_accuracy: 0.8265 - val_loss: 0.3703\n",
      "Epoch 8/20\n",
      "2731/2731 - 180s - 66ms/step - accuracy: 0.8673 - loss: 0.2985 - val_accuracy: 0.8308 - val_loss: 0.3728\n",
      "Epoch 9/20\n",
      "2731/2731 - 183s - 67ms/step - accuracy: 0.8794 - loss: 0.2729 - val_accuracy: 0.8344 - val_loss: 0.4105\n",
      "Epoch 10/20\n",
      "2731/2731 - 185s - 68ms/step - accuracy: 0.8888 - loss: 0.2536 - val_accuracy: 0.8393 - val_loss: 0.3545\n",
      "Epoch 11/20\n",
      "2731/2731 - 177s - 65ms/step - accuracy: 0.8997 - loss: 0.2352 - val_accuracy: 0.8461 - val_loss: 0.3771\n",
      "Epoch 12/20\n",
      "2731/2731 - 179s - 65ms/step - accuracy: 0.9053 - loss: 0.2273 - val_accuracy: 0.8411 - val_loss: 0.4065\n",
      "Epoch 13/20\n",
      "2731/2731 - 171s - 62ms/step - accuracy: 0.9114 - loss: 0.2090 - val_accuracy: 0.8445 - val_loss: 0.4494\n",
      "Epoch 14/20\n",
      "2731/2731 - 167s - 61ms/step - accuracy: 0.9181 - loss: 0.1964 - val_accuracy: 0.8536 - val_loss: 0.3918\n",
      "Epoch 15/20\n",
      "2731/2731 - 169s - 62ms/step - accuracy: 0.9252 - loss: 0.1820 - val_accuracy: 0.8569 - val_loss: 0.4020\n",
      "Epoch 16/20\n",
      "2731/2731 - 165s - 60ms/step - accuracy: 0.9289 - loss: 0.1730 - val_accuracy: 0.8556 - val_loss: 0.3671\n",
      "Epoch 17/20\n",
      "2731/2731 - 174s - 64ms/step - accuracy: 0.9322 - loss: 0.1692 - val_accuracy: 0.8522 - val_loss: 0.3728\n",
      "Epoch 18/20\n",
      "2731/2731 - 174s - 64ms/step - accuracy: 0.9364 - loss: 0.1574 - val_accuracy: 0.8601 - val_loss: 0.4775\n",
      "Epoch 19/20\n",
      "2731/2731 - 171s - 62ms/step - accuracy: 0.9410 - loss: 0.1492 - val_accuracy: 0.8625 - val_loss: 0.3813\n",
      "Epoch 20/20\n",
      "2731/2731 - 162s - 59ms/step - accuracy: 0.9426 - loss: 0.1488 - val_accuracy: 0.8617 - val_loss: 0.4287\n"
     ]
    }
   ],
   "source": [
    "history = model.fit(\n",
    "    X_train_2d, y_train_cat,\n",
    "    validation_data=(X_val_2d, y_val_cat),\n",
    "    epochs=20,\n",
    "    batch_size=8,\n",
    "    verbose=2\n",
    ")\n"
   ]
  },
  {
   "cell_type": "code",
   "execution_count": 8,
   "id": "253e36d4",
   "metadata": {},
   "outputs": [
    {
     "name": "stdout",
     "output_type": "stream",
     "text": [
      "Test Accuracy: 85.62%\n"
     ]
    }
   ],
   "source": [
    "test_loss, test_acc = model.evaluate(X_test_2d, y_test_cat, verbose=0)\n",
    "print(f\"Test Accuracy: {test_acc * 100:.2f}%\")\n"
   ]
  },
  {
   "cell_type": "markdown",
   "id": "f58784f1",
   "metadata": {},
   "source": [
    "## Part 2: Additional CNN Techniques"
   ]
  },
  {
   "cell_type": "markdown",
   "id": "58cc1997-3718-4ffe-96fd-cf753cfab624",
   "metadata": {},
   "source": [
    "## Malware Detection Using CNNs\r\n"
   ]
  },
  {
   "cell_type": "code",
   "execution_count": 9,
   "id": "d675b305-3fb8-443f-9c5f-7bb2d77d9c9e",
   "metadata": {},
   "outputs": [],
   "source": [
    "import os\n",
    "import numpy as np\n",
    "from PIL import Image"
   ]
  },
  {
   "cell_type": "markdown",
   "id": "e90ba4fb-09db-4e9d-ad55-5a343fc91cb2",
   "metadata": {},
   "source": [
    "**Data Processing**"
   ]
  },
  {
   "cell_type": "code",
   "execution_count": 10,
   "id": "539b2b06-81a3-4078-9eda-9f4d5799f954",
   "metadata": {},
   "outputs": [],
   "source": [
    "def binary_file_to_image(filepath, size=(64, 64)):\n",
    "    #open file and read binary  data\n",
    "    with open(filepath, 'rb') as fname:\n",
    "        byte_arr = np.frombuffer(fname.read(), dtype=np.uint8)\n",
    "    \n",
    "    # Flatten or pad the array to fit the target image size\n",
    "    desired_size = size[0] * size[1]\n",
    "    # Trucate if file size is too large\n",
    "    if len(byte_arr) > desired_size:\n",
    "        byte_arr = byte_arr[:desired_size]\n",
    "    #Pad with zeros if file size is too small\n",
    "    else:\n",
    "        byte_arr = np.pad(byte_arr, (0, desired_size - len(byte_arr)), 'constant', constant_values=0)\n",
    "    # returns image\n",
    "    image = byte_arr.reshape(size)\n",
    "    return image"
   ]
  },
  {
   "cell_type": "code",
   "execution_count": 11,
   "id": "894b13ea-a300-41c2-8da7-f31c72b4735c",
   "metadata": {},
   "outputs": [],
   "source": [
    "#Define function to load the data set from the folders\n",
    "def load_dataset(folder_path, size=(64, 64)): \n",
    "    # List X  to hold features and list Y variable holds class labels\n",
    "    X, y = [], []\n",
    "    for label, subfolder in enumerate(['ben', 'mal']):\n",
    "        # prepares the subfolders \n",
    "        class_folder = os.path.join(folder_path, subfolder)\n",
    "        for file_name in os.listdir(class_folder):\n",
    "            file_path = os.path.join(class_folder, file_name)\n",
    "        # Calls previous function to convert data to grayscale and resizes to 64 X 64\n",
    "        # Then saves to X and Y\n",
    "            try:\n",
    "                img = binary_file_to_image(file_path, size)\n",
    "                X.append(img)\n",
    "                y.append(label)\n",
    "        # If  file file is corrupt, error message will be printed and file will be skiped\n",
    "            except Exception as e:\n",
    "                print(f\"Error processing {file_path}: {e}\")\n",
    "    # returns X and Y\n",
    "    return np.array(X), np.array(y)"
   ]
  },
  {
   "cell_type": "markdown",
   "id": "bd9efd49-2ed8-497a-85bc-6c4d98897cd4",
   "metadata": {},
   "source": [
    "**Load and normalize**"
   ]
  },
  {
   "cell_type": "code",
   "execution_count": 13,
   "id": "2b6dae06-a650-4e53-b58c-78460e418afd",
   "metadata": {},
   "outputs": [],
   "source": [
    "import keras\n",
    "from sklearn.model_selection import train_test_split\n",
    "\n",
    "\n",
    "# Load datasets\n",
    "train_X, train_y = load_dataset(r\"D:\\project\\myJupyter\\deep-learning-with-python-notebooks-master\\data_exe_100000\\train\")\n",
    "val_X, val_y = load_dataset(r\"D:\\project\\myJupyter\\deep-learning-with-python-notebooks-master\\data_exe_100000\\valid\")\n",
    "test_X, test_y = load_dataset(r\"D:\\project\\myJupyter\\deep-learning-with-python-notebooks-master\\data_exe_100000\\test\")\n",
    "\n",
    "# Normalize and reshape for CNN\n",
    "train_X = train_X / 255.0\n",
    "val_X = val_X / 255.0\n",
    "test_X = test_X / 255.0\n",
    "\n",
    "train_X = train_X[..., np.newaxis]\n",
    "val_X = val_X[..., np.newaxis]\n",
    "test_X = test_X[..., np.newaxis]"
   ]
  },
  {
   "cell_type": "markdown",
   "id": "17b9c665-b262-478f-9102-76ca5a478a6d",
   "metadata": {},
   "source": [
    "## Buliding Model"
   ]
  },
  {
   "cell_type": "code",
   "execution_count": 14,
   "id": "2ee570ad-8300-41e9-945f-a14dcf8cdbd6",
   "metadata": {},
   "outputs": [
    {
     "name": "stderr",
     "output_type": "stream",
     "text": [
      "C:\\Users\\Brittany Avila\\anaconda3\\Lib\\site-packages\\keras\\src\\layers\\convolutional\\base_conv.py:107: UserWarning: Do not pass an `input_shape`/`input_dim` argument to a layer. When using Sequential models, prefer using an `Input(shape)` object as the first layer in the model instead.\n",
      "  super().__init__(activity_regularizer=activity_regularizer, **kwargs)\n"
     ]
    }
   ],
   "source": [
    "import keras\n",
    "from tensorflow.keras import layers, models\n",
    "from tensorflow.keras import regularizers\n",
    "\n",
    "model = models.Sequential([\n",
    "    layers.Conv2D(32, (3, 3), activation='relu', input_shape=train_X.shape[1:]),\n",
    "    layers.MaxPooling2D(2, 2),\n",
    "\n",
    "    layers.Conv2D(64, (3, 3), activation='relu'),\n",
    "    layers.MaxPooling2D(2, 2),\n",
    "\n",
    "    layers.Flatten(),\n",
    "    layers.Dropout(0.5),\n",
    "    layers.Dense(64, activation='relu'),\n",
    "    layers.Dense(1, activation='sigmoid')\n",
    "])\n",
    "\n",
    "   \n",
    "\n"
   ]
  },
  {
   "cell_type": "code",
   "execution_count": 16,
   "id": "4c797d6f-618d-48c3-9579-67ca3713d230",
   "metadata": {},
   "outputs": [
    {
     "data": {
      "text/html": [
       "<pre style=\"white-space:pre;overflow-x:auto;line-height:normal;font-family:Menlo,'DejaVu Sans Mono',consolas,'Courier New',monospace\"><span style=\"font-weight: bold\">Model: \"sequential_1\"</span>\n",
       "</pre>\n"
      ],
      "text/plain": [
       "\u001b[1mModel: \"sequential_1\"\u001b[0m\n"
      ]
     },
     "metadata": {},
     "output_type": "display_data"
    },
    {
     "data": {
      "text/html": [
       "<pre style=\"white-space:pre;overflow-x:auto;line-height:normal;font-family:Menlo,'DejaVu Sans Mono',consolas,'Courier New',monospace\">┏━━━━━━━━━━━━━━━━━━━━━━━━━━━━━━━━━━━━━━┳━━━━━━━━━━━━━━━━━━━━━━━━━━━━━┳━━━━━━━━━━━━━━━━━┓\n",
       "┃<span style=\"font-weight: bold\"> Layer (type)                         </span>┃<span style=\"font-weight: bold\"> Output Shape                </span>┃<span style=\"font-weight: bold\">         Param # </span>┃\n",
       "┡━━━━━━━━━━━━━━━━━━━━━━━━━━━━━━━━━━━━━━╇━━━━━━━━━━━━━━━━━━━━━━━━━━━━━╇━━━━━━━━━━━━━━━━━┩\n",
       "│ conv2d_3 (<span style=\"color: #0087ff; text-decoration-color: #0087ff\">Conv2D</span>)                    │ (<span style=\"color: #00d7ff; text-decoration-color: #00d7ff\">None</span>, <span style=\"color: #00af00; text-decoration-color: #00af00\">62</span>, <span style=\"color: #00af00; text-decoration-color: #00af00\">62</span>, <span style=\"color: #00af00; text-decoration-color: #00af00\">32</span>)          │             <span style=\"color: #00af00; text-decoration-color: #00af00\">320</span> │\n",
       "├──────────────────────────────────────┼─────────────────────────────┼─────────────────┤\n",
       "│ max_pooling2d_3 (<span style=\"color: #0087ff; text-decoration-color: #0087ff\">MaxPooling2D</span>)       │ (<span style=\"color: #00d7ff; text-decoration-color: #00d7ff\">None</span>, <span style=\"color: #00af00; text-decoration-color: #00af00\">31</span>, <span style=\"color: #00af00; text-decoration-color: #00af00\">31</span>, <span style=\"color: #00af00; text-decoration-color: #00af00\">32</span>)          │               <span style=\"color: #00af00; text-decoration-color: #00af00\">0</span> │\n",
       "├──────────────────────────────────────┼─────────────────────────────┼─────────────────┤\n",
       "│ conv2d_4 (<span style=\"color: #0087ff; text-decoration-color: #0087ff\">Conv2D</span>)                    │ (<span style=\"color: #00d7ff; text-decoration-color: #00d7ff\">None</span>, <span style=\"color: #00af00; text-decoration-color: #00af00\">29</span>, <span style=\"color: #00af00; text-decoration-color: #00af00\">29</span>, <span style=\"color: #00af00; text-decoration-color: #00af00\">64</span>)          │          <span style=\"color: #00af00; text-decoration-color: #00af00\">18,496</span> │\n",
       "├──────────────────────────────────────┼─────────────────────────────┼─────────────────┤\n",
       "│ max_pooling2d_4 (<span style=\"color: #0087ff; text-decoration-color: #0087ff\">MaxPooling2D</span>)       │ (<span style=\"color: #00d7ff; text-decoration-color: #00d7ff\">None</span>, <span style=\"color: #00af00; text-decoration-color: #00af00\">14</span>, <span style=\"color: #00af00; text-decoration-color: #00af00\">14</span>, <span style=\"color: #00af00; text-decoration-color: #00af00\">64</span>)          │               <span style=\"color: #00af00; text-decoration-color: #00af00\">0</span> │\n",
       "├──────────────────────────────────────┼─────────────────────────────┼─────────────────┤\n",
       "│ flatten_1 (<span style=\"color: #0087ff; text-decoration-color: #0087ff\">Flatten</span>)                  │ (<span style=\"color: #00d7ff; text-decoration-color: #00d7ff\">None</span>, <span style=\"color: #00af00; text-decoration-color: #00af00\">12544</span>)               │               <span style=\"color: #00af00; text-decoration-color: #00af00\">0</span> │\n",
       "├──────────────────────────────────────┼─────────────────────────────┼─────────────────┤\n",
       "│ dropout_1 (<span style=\"color: #0087ff; text-decoration-color: #0087ff\">Dropout</span>)                  │ (<span style=\"color: #00d7ff; text-decoration-color: #00d7ff\">None</span>, <span style=\"color: #00af00; text-decoration-color: #00af00\">12544</span>)               │               <span style=\"color: #00af00; text-decoration-color: #00af00\">0</span> │\n",
       "├──────────────────────────────────────┼─────────────────────────────┼─────────────────┤\n",
       "│ dense_2 (<span style=\"color: #0087ff; text-decoration-color: #0087ff\">Dense</span>)                      │ (<span style=\"color: #00d7ff; text-decoration-color: #00d7ff\">None</span>, <span style=\"color: #00af00; text-decoration-color: #00af00\">64</span>)                  │         <span style=\"color: #00af00; text-decoration-color: #00af00\">802,880</span> │\n",
       "├──────────────────────────────────────┼─────────────────────────────┼─────────────────┤\n",
       "│ dense_3 (<span style=\"color: #0087ff; text-decoration-color: #0087ff\">Dense</span>)                      │ (<span style=\"color: #00d7ff; text-decoration-color: #00d7ff\">None</span>, <span style=\"color: #00af00; text-decoration-color: #00af00\">1</span>)                   │              <span style=\"color: #00af00; text-decoration-color: #00af00\">65</span> │\n",
       "└──────────────────────────────────────┴─────────────────────────────┴─────────────────┘\n",
       "</pre>\n"
      ],
      "text/plain": [
       "┏━━━━━━━━━━━━━━━━━━━━━━━━━━━━━━━━━━━━━━┳━━━━━━━━━━━━━━━━━━━━━━━━━━━━━┳━━━━━━━━━━━━━━━━━┓\n",
       "┃\u001b[1m \u001b[0m\u001b[1mLayer (type)                        \u001b[0m\u001b[1m \u001b[0m┃\u001b[1m \u001b[0m\u001b[1mOutput Shape               \u001b[0m\u001b[1m \u001b[0m┃\u001b[1m \u001b[0m\u001b[1m        Param #\u001b[0m\u001b[1m \u001b[0m┃\n",
       "┡━━━━━━━━━━━━━━━━━━━━━━━━━━━━━━━━━━━━━━╇━━━━━━━━━━━━━━━━━━━━━━━━━━━━━╇━━━━━━━━━━━━━━━━━┩\n",
       "│ conv2d_3 (\u001b[38;5;33mConv2D\u001b[0m)                    │ (\u001b[38;5;45mNone\u001b[0m, \u001b[38;5;34m62\u001b[0m, \u001b[38;5;34m62\u001b[0m, \u001b[38;5;34m32\u001b[0m)          │             \u001b[38;5;34m320\u001b[0m │\n",
       "├──────────────────────────────────────┼─────────────────────────────┼─────────────────┤\n",
       "│ max_pooling2d_3 (\u001b[38;5;33mMaxPooling2D\u001b[0m)       │ (\u001b[38;5;45mNone\u001b[0m, \u001b[38;5;34m31\u001b[0m, \u001b[38;5;34m31\u001b[0m, \u001b[38;5;34m32\u001b[0m)          │               \u001b[38;5;34m0\u001b[0m │\n",
       "├──────────────────────────────────────┼─────────────────────────────┼─────────────────┤\n",
       "│ conv2d_4 (\u001b[38;5;33mConv2D\u001b[0m)                    │ (\u001b[38;5;45mNone\u001b[0m, \u001b[38;5;34m29\u001b[0m, \u001b[38;5;34m29\u001b[0m, \u001b[38;5;34m64\u001b[0m)          │          \u001b[38;5;34m18,496\u001b[0m │\n",
       "├──────────────────────────────────────┼─────────────────────────────┼─────────────────┤\n",
       "│ max_pooling2d_4 (\u001b[38;5;33mMaxPooling2D\u001b[0m)       │ (\u001b[38;5;45mNone\u001b[0m, \u001b[38;5;34m14\u001b[0m, \u001b[38;5;34m14\u001b[0m, \u001b[38;5;34m64\u001b[0m)          │               \u001b[38;5;34m0\u001b[0m │\n",
       "├──────────────────────────────────────┼─────────────────────────────┼─────────────────┤\n",
       "│ flatten_1 (\u001b[38;5;33mFlatten\u001b[0m)                  │ (\u001b[38;5;45mNone\u001b[0m, \u001b[38;5;34m12544\u001b[0m)               │               \u001b[38;5;34m0\u001b[0m │\n",
       "├──────────────────────────────────────┼─────────────────────────────┼─────────────────┤\n",
       "│ dropout_1 (\u001b[38;5;33mDropout\u001b[0m)                  │ (\u001b[38;5;45mNone\u001b[0m, \u001b[38;5;34m12544\u001b[0m)               │               \u001b[38;5;34m0\u001b[0m │\n",
       "├──────────────────────────────────────┼─────────────────────────────┼─────────────────┤\n",
       "│ dense_2 (\u001b[38;5;33mDense\u001b[0m)                      │ (\u001b[38;5;45mNone\u001b[0m, \u001b[38;5;34m64\u001b[0m)                  │         \u001b[38;5;34m802,880\u001b[0m │\n",
       "├──────────────────────────────────────┼─────────────────────────────┼─────────────────┤\n",
       "│ dense_3 (\u001b[38;5;33mDense\u001b[0m)                      │ (\u001b[38;5;45mNone\u001b[0m, \u001b[38;5;34m1\u001b[0m)                   │              \u001b[38;5;34m65\u001b[0m │\n",
       "└──────────────────────────────────────┴─────────────────────────────┴─────────────────┘\n"
      ]
     },
     "metadata": {},
     "output_type": "display_data"
    },
    {
     "data": {
      "text/html": [
       "<pre style=\"white-space:pre;overflow-x:auto;line-height:normal;font-family:Menlo,'DejaVu Sans Mono',consolas,'Courier New',monospace\"><span style=\"font-weight: bold\"> Total params: </span><span style=\"color: #00af00; text-decoration-color: #00af00\">821,761</span> (3.13 MB)\n",
       "</pre>\n"
      ],
      "text/plain": [
       "\u001b[1m Total params: \u001b[0m\u001b[38;5;34m821,761\u001b[0m (3.13 MB)\n"
      ]
     },
     "metadata": {},
     "output_type": "display_data"
    },
    {
     "data": {
      "text/html": [
       "<pre style=\"white-space:pre;overflow-x:auto;line-height:normal;font-family:Menlo,'DejaVu Sans Mono',consolas,'Courier New',monospace\"><span style=\"font-weight: bold\"> Trainable params: </span><span style=\"color: #00af00; text-decoration-color: #00af00\">821,761</span> (3.13 MB)\n",
       "</pre>\n"
      ],
      "text/plain": [
       "\u001b[1m Trainable params: \u001b[0m\u001b[38;5;34m821,761\u001b[0m (3.13 MB)\n"
      ]
     },
     "metadata": {},
     "output_type": "display_data"
    },
    {
     "data": {
      "text/html": [
       "<pre style=\"white-space:pre;overflow-x:auto;line-height:normal;font-family:Menlo,'DejaVu Sans Mono',consolas,'Courier New',monospace\"><span style=\"font-weight: bold\"> Non-trainable params: </span><span style=\"color: #00af00; text-decoration-color: #00af00\">0</span> (0.00 B)\n",
       "</pre>\n"
      ],
      "text/plain": [
       "\u001b[1m Non-trainable params: \u001b[0m\u001b[38;5;34m0\u001b[0m (0.00 B)\n"
      ]
     },
     "metadata": {},
     "output_type": "display_data"
    }
   ],
   "source": [
    "model.summary()"
   ]
  },
  {
   "cell_type": "markdown",
   "id": "c28bf2fc-8a0c-47a1-ab03-5691d9323357",
   "metadata": {},
   "source": [
    "**Configuring the model for training**"
   ]
  },
  {
   "cell_type": "code",
   "execution_count": 17,
   "id": "0fe262af-50be-4609-a821-8230bff95143",
   "metadata": {},
   "outputs": [],
   "source": [
    "model.compile(optimizer='adam',\n",
    "              loss='binary_crossentropy',\n",
    "              metrics=['accuracy'])"
   ]
  },
  {
   "cell_type": "markdown",
   "id": "877e1d57-55a6-4963-8030-f22c2156dc7f",
   "metadata": {},
   "source": [
    "**Early Stoping**"
   ]
  },
  {
   "cell_type": "code",
   "execution_count": 18,
   "id": "d7fa45e3-968b-43bc-8d3f-b4f00bd4a4c5",
   "metadata": {},
   "outputs": [],
   "source": [
    "from keras.callbacks import EarlyStopping\n",
    "early_stopping = keras.callbacks.EarlyStopping(\n",
    "    monitor='val_accuracy',       # will monitor val_accuracy\n",
    "    patience=3,               # will wait 3 epochs to see if there is improvement\n",
    "    restore_best_weights=True # returns previous best model if there is no improvment\n",
    ")"
   ]
  },
  {
   "cell_type": "markdown",
   "id": "6b82f396-759c-41a8-aa73-cd5b5c4e7a41",
   "metadata": {},
   "source": [
    "**Training the model**"
   ]
  },
  {
   "cell_type": "code",
   "execution_count": 19,
   "id": "258625f0-a5f2-40ef-974b-3b76e050d117",
   "metadata": {},
   "outputs": [
    {
     "name": "stdout",
     "output_type": "stream",
     "text": [
      "Epoch 1/10\n",
      "\u001b[1m683/683\u001b[0m \u001b[32m━━━━━━━━━━━━━━━━━━━━\u001b[0m\u001b[37m\u001b[0m \u001b[1m23s\u001b[0m 31ms/step - accuracy: 0.6518 - loss: 0.6104 - val_accuracy: 0.7657 - val_loss: 0.4685\n",
      "Epoch 2/10\n",
      "\u001b[1m683/683\u001b[0m \u001b[32m━━━━━━━━━━━━━━━━━━━━\u001b[0m\u001b[37m\u001b[0m \u001b[1m21s\u001b[0m 30ms/step - accuracy: 0.7934 - loss: 0.4293 - val_accuracy: 0.8300 - val_loss: 0.3830\n",
      "Epoch 3/10\n",
      "\u001b[1m683/683\u001b[0m \u001b[32m━━━━━━━━━━━━━━━━━━━━\u001b[0m\u001b[37m\u001b[0m \u001b[1m21s\u001b[0m 31ms/step - accuracy: 0.8325 - loss: 0.3699 - val_accuracy: 0.8474 - val_loss: 0.3461\n",
      "Epoch 4/10\n",
      "\u001b[1m683/683\u001b[0m \u001b[32m━━━━━━━━━━━━━━━━━━━━\u001b[0m\u001b[37m\u001b[0m \u001b[1m41s\u001b[0m 30ms/step - accuracy: 0.8558 - loss: 0.3219 - val_accuracy: 0.8387 - val_loss: 0.3541\n",
      "Epoch 5/10\n",
      "\u001b[1m683/683\u001b[0m \u001b[32m━━━━━━━━━━━━━━━━━━━━\u001b[0m\u001b[37m\u001b[0m \u001b[1m21s\u001b[0m 30ms/step - accuracy: 0.8722 - loss: 0.2910 - val_accuracy: 0.8601 - val_loss: 0.3259\n",
      "Epoch 6/10\n",
      "\u001b[1m683/683\u001b[0m \u001b[32m━━━━━━━━━━━━━━━━━━━━\u001b[0m\u001b[37m\u001b[0m \u001b[1m20s\u001b[0m 30ms/step - accuracy: 0.8887 - loss: 0.2604 - val_accuracy: 0.8611 - val_loss: 0.3292\n",
      "Epoch 7/10\n",
      "\u001b[1m683/683\u001b[0m \u001b[32m━━━━━━━━━━━━━━━━━━━━\u001b[0m\u001b[37m\u001b[0m \u001b[1m21s\u001b[0m 30ms/step - accuracy: 0.8987 - loss: 0.2382 - val_accuracy: 0.8637 - val_loss: 0.3269\n",
      "Epoch 8/10\n",
      "\u001b[1m683/683\u001b[0m \u001b[32m━━━━━━━━━━━━━━━━━━━━\u001b[0m\u001b[37m\u001b[0m \u001b[1m21s\u001b[0m 30ms/step - accuracy: 0.9098 - loss: 0.2151 - val_accuracy: 0.8623 - val_loss: 0.3292\n",
      "Epoch 9/10\n",
      "\u001b[1m683/683\u001b[0m \u001b[32m━━━━━━━━━━━━━━━━━━━━\u001b[0m\u001b[37m\u001b[0m \u001b[1m21s\u001b[0m 30ms/step - accuracy: 0.9175 - loss: 0.1913 - val_accuracy: 0.8696 - val_loss: 0.3303\n",
      "Epoch 10/10\n",
      "\u001b[1m683/683\u001b[0m \u001b[32m━━━━━━━━━━━━━━━━━━━━\u001b[0m\u001b[37m\u001b[0m \u001b[1m21s\u001b[0m 30ms/step - accuracy: 0.9213 - loss: 0.1838 - val_accuracy: 0.8694 - val_loss: 0.3596\n"
     ]
    },
    {
     "data": {
      "text/plain": [
       "<keras.src.callbacks.history.History at 0x1c360aa4290>"
      ]
     },
     "execution_count": 19,
     "metadata": {},
     "output_type": "execute_result"
    }
   ],
   "source": [
    "\n",
    "model.fit(train_X, train_y, epochs=10, batch_size=32, callbacks=[early_stopping], validation_data=(val_X, val_y))"
   ]
  },
  {
   "cell_type": "markdown",
   "id": "a10204df-dd68-476d-aef8-6b2fc24a949b",
   "metadata": {},
   "source": [
    "**Evaluating the model**"
   ]
  },
  {
   "cell_type": "code",
   "execution_count": 20,
   "id": "fb88bcf4-3287-4d8e-91fd-368811148030",
   "metadata": {},
   "outputs": [
    {
     "name": "stdout",
     "output_type": "stream",
     "text": [
      "\n",
      "Test\n",
      "\u001b[1m625/625\u001b[0m \u001b[32m━━━━━━━━━━━━━━━━━━━━\u001b[0m\u001b[37m\u001b[0m \u001b[1m6s\u001b[0m 10ms/step - accuracy: 0.9007 - loss: 0.2709\n",
      "Test Accuracy: 86.91%\n"
     ]
    }
   ],
   "source": [
    "print ('\\nTest')\n",
    "test_loss, test_acc = model.evaluate(test_X, test_y)\n",
    "print(f\"Test Accuracy: {test_acc * 100:.2f}%\")"
   ]
  },
  {
   "cell_type": "markdown",
   "id": "090ad7a2-de77-4b1c-a427-ff150d45540d",
   "metadata": {},
   "source": [
    "**Confusion Matrix**"
   ]
  },
  {
   "cell_type": "code",
   "execution_count": 21,
   "id": "95917290-92c8-4aa2-9482-95ad24e55baa",
   "metadata": {},
   "outputs": [
    {
     "name": "stdout",
     "output_type": "stream",
     "text": [
      "\u001b[1m625/625\u001b[0m \u001b[32m━━━━━━━━━━━━━━━━━━━━\u001b[0m\u001b[37m\u001b[0m \u001b[1m5s\u001b[0m 9ms/step\n",
      "[[9133  867]\n",
      " [1750 8250]]\n"
     ]
    }
   ],
   "source": [
    "from sklearn.metrics import confusion_matrix\n",
    "import numpy as np\n",
    "\n",
    "y_pred=model.predict(test_X)\n",
    "y_pred_classes =(y_pred > 0.5)\n",
    "confmat=confusion_matrix(test_y,y_pred_classes)\n",
    "print(confmat)"
   ]
  }
 ],
 "metadata": {
  "kernelspec": {
   "display_name": "Python 3 (ipykernel)",
   "language": "python",
   "name": "python3"
  },
  "language_info": {
   "codemirror_mode": {
    "name": "ipython",
    "version": 3
   },
   "file_extension": ".py",
   "mimetype": "text/x-python",
   "name": "python",
   "nbconvert_exporter": "python",
   "pygments_lexer": "ipython3",
   "version": "3.12.4"
  }
 },
 "nbformat": 4,
 "nbformat_minor": 5
}
