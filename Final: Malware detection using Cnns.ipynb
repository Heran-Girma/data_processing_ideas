{
 "cells": [
  {
   "cell_type": "markdown",
   "id": "58cc1997-3718-4ffe-96fd-cf753cfab624",
   "metadata": {},
   "source": [
    "## Malware Detection Using CNNs\r\n"
   ]
  },
  {
   "cell_type": "code",
   "execution_count": 2,
   "id": "d675b305-3fb8-443f-9c5f-7bb2d77d9c9e",
   "metadata": {},
   "outputs": [],
   "source": [
    "import os\n",
    "import numpy as np\n",
    "from PIL import Image"
   ]
  },
  {
   "cell_type": "markdown",
   "id": "e90ba4fb-09db-4e9d-ad55-5a343fc91cb2",
   "metadata": {},
   "source": [
    "**Data Processing**"
   ]
  },
  {
   "cell_type": "code",
   "execution_count": 4,
   "id": "539b2b06-81a3-4078-9eda-9f4d5799f954",
   "metadata": {},
   "outputs": [],
   "source": [
    "def binary_file_to_image(filepath, size=(64, 64)):\n",
    "    #open file and read binary  data\n",
    "    with open(filepath, 'rb') as fname:\n",
    "        byte_arr = np.frombuffer(fname.read(), dtype=np.uint8)\n",
    "    \n",
    "    # Flatten or pad the array to fit the target image size\n",
    "    desired_size = size[0] * size[1]\n",
    "    # Trucate if file size is too large\n",
    "    if len(byte_arr) > desired_size:\n",
    "        byte_arr = byte_arr[:desired_size]\n",
    "    #Pad with zeros if file size is too small\n",
    "    else:\n",
    "        byte_arr = np.pad(byte_arr, (0, desired_size - len(byte_arr)), 'constant', constant_values=0)\n",
    "    # returns image\n",
    "    image = byte_arr.reshape(size)\n",
    "    return image"
   ]
  },
  {
   "cell_type": "code",
   "execution_count": 5,
   "id": "894b13ea-a300-41c2-8da7-f31c72b4735c",
   "metadata": {},
   "outputs": [],
   "source": [
    "#Define function to load the data set from the folders\n",
    "def load_dataset(folder_path, size=(64, 64)): \n",
    "    # List X  to hold features and list Y variable holds class labels\n",
    "    X, y = [], []\n",
    "    for label, subfolder in enumerate(['ben', 'mal']):\n",
    "        # prepares the subfolders \n",
    "        class_folder = os.path.join(folder_path, subfolder)\n",
    "        for file_name in os.listdir(class_folder):\n",
    "            file_path = os.path.join(class_folder, file_name)\n",
    "        # Calls previous function to convert data to grayscale and resizes to 64 X 64\n",
    "        # Then saves to X and Y\n",
    "            try:\n",
    "                img = binary_file_to_image(file_path, size)\n",
    "                X.append(img)\n",
    "                y.append(label)\n",
    "        # If  file file is corrupt, error message will be printed and file will be skiped\n",
    "            except Exception as e:\n",
    "                print(f\"Error processing {file_path}: {e}\")\n",
    "    # returns X and Y\n",
    "    return np.array(X), np.array(y)"
   ]
  },
  {
   "cell_type": "markdown",
   "id": "bd9efd49-2ed8-497a-85bc-6c4d98897cd4",
   "metadata": {},
   "source": [
    "**Load and normalize**"
   ]
  },
  {
   "cell_type": "code",
   "execution_count": 47,
   "id": "2b6dae06-a650-4e53-b58c-78460e418afd",
   "metadata": {},
   "outputs": [],
   "source": [
    "import keras\n",
    "from sklearn.model_selection import train_test_split\n",
    "\n",
    "\n",
    "# Load datasets\n",
    "train_X, train_y = load_dataset('final_data_set/train/')# 30,000 mal and ben files\n",
    "val_X, val_y = load_dataset('final_data_set/valid/')# 2,000 mal and ben files\n",
    "test_X, test_y = load_dataset('final_data_set/test/')# 4,500 mal and ben files\n",
    "\n",
    "\n",
    "# Normalize and reshape for CNN\n",
    "train_X = train_X / 255.0\n",
    "val_X = val_X / 255.0\n",
    "test_X = test_X / 255.0\n",
    "\n",
    "train_X = train_X[..., np.newaxis]\n",
    "val_X = val_X[..., np.newaxis]\n",
    "test_X = test_X[..., np.newaxis]"
   ]
  },
  {
   "cell_type": "markdown",
   "id": "17b9c665-b262-478f-9102-76ca5a478a6d",
   "metadata": {},
   "source": [
    "## Buliding Model"
   ]
  },
  {
   "cell_type": "code",
   "execution_count": 115,
   "id": "2ee570ad-8300-41e9-945f-a14dcf8cdbd6",
   "metadata": {},
   "outputs": [],
   "source": [
    "import keras\n",
    "from tensorflow.keras import layers, models\n",
    "from tensorflow.keras import regularizers\n",
    "\n",
    "model = models.Sequential([\n",
    "    layers.Conv2D(32, (3, 3), activation='relu', input_shape=train_X.shape[1:] ),\n",
    "    layers.MaxPooling2D(2, 2),\n",
    "\n",
    "    layers.Conv2D(64, (3, 3), activation='relu'),\n",
    "    layers.MaxPooling2D(2, 2),\n",
    "\n",
    "    layers.Flatten(),\n",
    "    layers.Dropout(0.5),\n",
    "    layers.Dense(64, activation='relu'),\n",
    "    layers.Dense(1, activation='sigmoid')\n",
    "])"
   ]
  },
  {
   "cell_type": "code",
   "execution_count": 117,
   "id": "4c797d6f-618d-48c3-9579-67ca3713d230",
   "metadata": {},
   "outputs": [
    {
     "data": {
      "text/html": [
       "<pre style=\"white-space:pre;overflow-x:auto;line-height:normal;font-family:Menlo,'DejaVu Sans Mono',consolas,'Courier New',monospace\"><span style=\"font-weight: bold\">Model: \"sequential_6\"</span>\n",
       "</pre>\n"
      ],
      "text/plain": [
       "\u001b[1mModel: \"sequential_6\"\u001b[0m\n"
      ]
     },
     "metadata": {},
     "output_type": "display_data"
    },
    {
     "data": {
      "text/html": [
       "<pre style=\"white-space:pre;overflow-x:auto;line-height:normal;font-family:Menlo,'DejaVu Sans Mono',consolas,'Courier New',monospace\">┏━━━━━━━━━━━━━━━━━━━━━━━━━━━━━━━━━┳━━━━━━━━━━━━━━━━━━━━━━━━┳━━━━━━━━━━━━━━━┓\n",
       "┃<span style=\"font-weight: bold\"> Layer (type)                    </span>┃<span style=\"font-weight: bold\"> Output Shape           </span>┃<span style=\"font-weight: bold\">       Param # </span>┃\n",
       "┡━━━━━━━━━━━━━━━━━━━━━━━━━━━━━━━━━╇━━━━━━━━━━━━━━━━━━━━━━━━╇━━━━━━━━━━━━━━━┩\n",
       "│ conv2d_12 (<span style=\"color: #0087ff; text-decoration-color: #0087ff\">Conv2D</span>)              │ (<span style=\"color: #00d7ff; text-decoration-color: #00d7ff\">None</span>, <span style=\"color: #00af00; text-decoration-color: #00af00\">62</span>, <span style=\"color: #00af00; text-decoration-color: #00af00\">62</span>, <span style=\"color: #00af00; text-decoration-color: #00af00\">32</span>)     │           <span style=\"color: #00af00; text-decoration-color: #00af00\">320</span> │\n",
       "├─────────────────────────────────┼────────────────────────┼───────────────┤\n",
       "│ max_pooling2d_12 (<span style=\"color: #0087ff; text-decoration-color: #0087ff\">MaxPooling2D</span>) │ (<span style=\"color: #00d7ff; text-decoration-color: #00d7ff\">None</span>, <span style=\"color: #00af00; text-decoration-color: #00af00\">31</span>, <span style=\"color: #00af00; text-decoration-color: #00af00\">31</span>, <span style=\"color: #00af00; text-decoration-color: #00af00\">32</span>)     │             <span style=\"color: #00af00; text-decoration-color: #00af00\">0</span> │\n",
       "├─────────────────────────────────┼────────────────────────┼───────────────┤\n",
       "│ conv2d_13 (<span style=\"color: #0087ff; text-decoration-color: #0087ff\">Conv2D</span>)              │ (<span style=\"color: #00d7ff; text-decoration-color: #00d7ff\">None</span>, <span style=\"color: #00af00; text-decoration-color: #00af00\">29</span>, <span style=\"color: #00af00; text-decoration-color: #00af00\">29</span>, <span style=\"color: #00af00; text-decoration-color: #00af00\">64</span>)     │        <span style=\"color: #00af00; text-decoration-color: #00af00\">18,496</span> │\n",
       "├─────────────────────────────────┼────────────────────────┼───────────────┤\n",
       "│ max_pooling2d_13 (<span style=\"color: #0087ff; text-decoration-color: #0087ff\">MaxPooling2D</span>) │ (<span style=\"color: #00d7ff; text-decoration-color: #00d7ff\">None</span>, <span style=\"color: #00af00; text-decoration-color: #00af00\">14</span>, <span style=\"color: #00af00; text-decoration-color: #00af00\">14</span>, <span style=\"color: #00af00; text-decoration-color: #00af00\">64</span>)     │             <span style=\"color: #00af00; text-decoration-color: #00af00\">0</span> │\n",
       "├─────────────────────────────────┼────────────────────────┼───────────────┤\n",
       "│ flatten_6 (<span style=\"color: #0087ff; text-decoration-color: #0087ff\">Flatten</span>)             │ (<span style=\"color: #00d7ff; text-decoration-color: #00d7ff\">None</span>, <span style=\"color: #00af00; text-decoration-color: #00af00\">12544</span>)          │             <span style=\"color: #00af00; text-decoration-color: #00af00\">0</span> │\n",
       "├─────────────────────────────────┼────────────────────────┼───────────────┤\n",
       "│ dropout_6 (<span style=\"color: #0087ff; text-decoration-color: #0087ff\">Dropout</span>)             │ (<span style=\"color: #00d7ff; text-decoration-color: #00d7ff\">None</span>, <span style=\"color: #00af00; text-decoration-color: #00af00\">12544</span>)          │             <span style=\"color: #00af00; text-decoration-color: #00af00\">0</span> │\n",
       "├─────────────────────────────────┼────────────────────────┼───────────────┤\n",
       "│ dense_12 (<span style=\"color: #0087ff; text-decoration-color: #0087ff\">Dense</span>)                │ (<span style=\"color: #00d7ff; text-decoration-color: #00d7ff\">None</span>, <span style=\"color: #00af00; text-decoration-color: #00af00\">64</span>)             │       <span style=\"color: #00af00; text-decoration-color: #00af00\">802,880</span> │\n",
       "├─────────────────────────────────┼────────────────────────┼───────────────┤\n",
       "│ dense_13 (<span style=\"color: #0087ff; text-decoration-color: #0087ff\">Dense</span>)                │ (<span style=\"color: #00d7ff; text-decoration-color: #00d7ff\">None</span>, <span style=\"color: #00af00; text-decoration-color: #00af00\">1</span>)              │            <span style=\"color: #00af00; text-decoration-color: #00af00\">65</span> │\n",
       "└─────────────────────────────────┴────────────────────────┴───────────────┘\n",
       "</pre>\n"
      ],
      "text/plain": [
       "┏━━━━━━━━━━━━━━━━━━━━━━━━━━━━━━━━━┳━━━━━━━━━━━━━━━━━━━━━━━━┳━━━━━━━━━━━━━━━┓\n",
       "┃\u001b[1m \u001b[0m\u001b[1mLayer (type)                   \u001b[0m\u001b[1m \u001b[0m┃\u001b[1m \u001b[0m\u001b[1mOutput Shape          \u001b[0m\u001b[1m \u001b[0m┃\u001b[1m \u001b[0m\u001b[1m      Param #\u001b[0m\u001b[1m \u001b[0m┃\n",
       "┡━━━━━━━━━━━━━━━━━━━━━━━━━━━━━━━━━╇━━━━━━━━━━━━━━━━━━━━━━━━╇━━━━━━━━━━━━━━━┩\n",
       "│ conv2d_12 (\u001b[38;5;33mConv2D\u001b[0m)              │ (\u001b[38;5;45mNone\u001b[0m, \u001b[38;5;34m62\u001b[0m, \u001b[38;5;34m62\u001b[0m, \u001b[38;5;34m32\u001b[0m)     │           \u001b[38;5;34m320\u001b[0m │\n",
       "├─────────────────────────────────┼────────────────────────┼───────────────┤\n",
       "│ max_pooling2d_12 (\u001b[38;5;33mMaxPooling2D\u001b[0m) │ (\u001b[38;5;45mNone\u001b[0m, \u001b[38;5;34m31\u001b[0m, \u001b[38;5;34m31\u001b[0m, \u001b[38;5;34m32\u001b[0m)     │             \u001b[38;5;34m0\u001b[0m │\n",
       "├─────────────────────────────────┼────────────────────────┼───────────────┤\n",
       "│ conv2d_13 (\u001b[38;5;33mConv2D\u001b[0m)              │ (\u001b[38;5;45mNone\u001b[0m, \u001b[38;5;34m29\u001b[0m, \u001b[38;5;34m29\u001b[0m, \u001b[38;5;34m64\u001b[0m)     │        \u001b[38;5;34m18,496\u001b[0m │\n",
       "├─────────────────────────────────┼────────────────────────┼───────────────┤\n",
       "│ max_pooling2d_13 (\u001b[38;5;33mMaxPooling2D\u001b[0m) │ (\u001b[38;5;45mNone\u001b[0m, \u001b[38;5;34m14\u001b[0m, \u001b[38;5;34m14\u001b[0m, \u001b[38;5;34m64\u001b[0m)     │             \u001b[38;5;34m0\u001b[0m │\n",
       "├─────────────────────────────────┼────────────────────────┼───────────────┤\n",
       "│ flatten_6 (\u001b[38;5;33mFlatten\u001b[0m)             │ (\u001b[38;5;45mNone\u001b[0m, \u001b[38;5;34m12544\u001b[0m)          │             \u001b[38;5;34m0\u001b[0m │\n",
       "├─────────────────────────────────┼────────────────────────┼───────────────┤\n",
       "│ dropout_6 (\u001b[38;5;33mDropout\u001b[0m)             │ (\u001b[38;5;45mNone\u001b[0m, \u001b[38;5;34m12544\u001b[0m)          │             \u001b[38;5;34m0\u001b[0m │\n",
       "├─────────────────────────────────┼────────────────────────┼───────────────┤\n",
       "│ dense_12 (\u001b[38;5;33mDense\u001b[0m)                │ (\u001b[38;5;45mNone\u001b[0m, \u001b[38;5;34m64\u001b[0m)             │       \u001b[38;5;34m802,880\u001b[0m │\n",
       "├─────────────────────────────────┼────────────────────────┼───────────────┤\n",
       "│ dense_13 (\u001b[38;5;33mDense\u001b[0m)                │ (\u001b[38;5;45mNone\u001b[0m, \u001b[38;5;34m1\u001b[0m)              │            \u001b[38;5;34m65\u001b[0m │\n",
       "└─────────────────────────────────┴────────────────────────┴───────────────┘\n"
      ]
     },
     "metadata": {},
     "output_type": "display_data"
    },
    {
     "data": {
      "text/html": [
       "<pre style=\"white-space:pre;overflow-x:auto;line-height:normal;font-family:Menlo,'DejaVu Sans Mono',consolas,'Courier New',monospace\"><span style=\"font-weight: bold\"> Total params: </span><span style=\"color: #00af00; text-decoration-color: #00af00\">821,761</span> (3.13 MB)\n",
       "</pre>\n"
      ],
      "text/plain": [
       "\u001b[1m Total params: \u001b[0m\u001b[38;5;34m821,761\u001b[0m (3.13 MB)\n"
      ]
     },
     "metadata": {},
     "output_type": "display_data"
    },
    {
     "data": {
      "text/html": [
       "<pre style=\"white-space:pre;overflow-x:auto;line-height:normal;font-family:Menlo,'DejaVu Sans Mono',consolas,'Courier New',monospace\"><span style=\"font-weight: bold\"> Trainable params: </span><span style=\"color: #00af00; text-decoration-color: #00af00\">821,761</span> (3.13 MB)\n",
       "</pre>\n"
      ],
      "text/plain": [
       "\u001b[1m Trainable params: \u001b[0m\u001b[38;5;34m821,761\u001b[0m (3.13 MB)\n"
      ]
     },
     "metadata": {},
     "output_type": "display_data"
    },
    {
     "data": {
      "text/html": [
       "<pre style=\"white-space:pre;overflow-x:auto;line-height:normal;font-family:Menlo,'DejaVu Sans Mono',consolas,'Courier New',monospace\"><span style=\"font-weight: bold\"> Non-trainable params: </span><span style=\"color: #00af00; text-decoration-color: #00af00\">0</span> (0.00 B)\n",
       "</pre>\n"
      ],
      "text/plain": [
       "\u001b[1m Non-trainable params: \u001b[0m\u001b[38;5;34m0\u001b[0m (0.00 B)\n"
      ]
     },
     "metadata": {},
     "output_type": "display_data"
    }
   ],
   "source": [
    "model.summary()"
   ]
  },
  {
   "cell_type": "markdown",
   "id": "c28bf2fc-8a0c-47a1-ab03-5691d9323357",
   "metadata": {},
   "source": [
    "**Configuring the model for training**"
   ]
  },
  {
   "cell_type": "code",
   "execution_count": 119,
   "id": "0fe262af-50be-4609-a821-8230bff95143",
   "metadata": {},
   "outputs": [],
   "source": [
    "model.compile(optimizer='adam',\n",
    "              loss='binary_crossentropy',\n",
    "              metrics=['accuracy'])"
   ]
  },
  {
   "cell_type": "markdown",
   "id": "877e1d57-55a6-4963-8030-f22c2156dc7f",
   "metadata": {},
   "source": [
    "**Early Stoping**"
   ]
  },
  {
   "cell_type": "code",
   "execution_count": 121,
   "id": "d7fa45e3-968b-43bc-8d3f-b4f00bd4a4c5",
   "metadata": {},
   "outputs": [],
   "source": [
    "from keras.callbacks import EarlyStopping\n",
    "early_stopping = keras.callbacks.EarlyStopping(\n",
    "    # will monitor val_loss\n",
    "    monitor='val_loss', \n",
    "    # will wait 3 epochs to see if there is improvement\n",
    "    patience=4, \n",
    "    # returns previous best model if there is no improvment\n",
    "    restore_best_weights=True \n",
    ")"
   ]
  },
  {
   "cell_type": "markdown",
   "id": "6b82f396-759c-41a8-aa73-cd5b5c4e7a41",
   "metadata": {},
   "source": [
    "**Training the model**"
   ]
  },
  {
   "cell_type": "code",
   "execution_count": 123,
   "id": "258625f0-a5f2-40ef-974b-3b76e050d117",
   "metadata": {
    "scrolled": true
   },
   "outputs": [
    {
     "name": "stdout",
     "output_type": "stream",
     "text": [
      "Epoch 1/20\n",
      "\u001b[1m2344/2344\u001b[0m \u001b[32m━━━━━━━━━━━━━━━━━━━━\u001b[0m\u001b[37m\u001b[0m \u001b[1m93s\u001b[0m 39ms/step - accuracy: 0.7183 - loss: 0.5345 - val_accuracy: 0.8465 - val_loss: 0.3511\n",
      "Epoch 2/20\n",
      "\u001b[1m2344/2344\u001b[0m \u001b[32m━━━━━━━━━━━━━━━━━━━━\u001b[0m\u001b[37m\u001b[0m \u001b[1m92s\u001b[0m 39ms/step - accuracy: 0.8363 - loss: 0.3621 - val_accuracy: 0.8686 - val_loss: 0.3133\n",
      "Epoch 3/20\n",
      "\u001b[1m2344/2344\u001b[0m \u001b[32m━━━━━━━━━━━━━━━━━━━━\u001b[0m\u001b[37m\u001b[0m \u001b[1m95s\u001b[0m 40ms/step - accuracy: 0.8618 - loss: 0.3114 - val_accuracy: 0.8825 - val_loss: 0.2803\n",
      "Epoch 4/20\n",
      "\u001b[1m2344/2344\u001b[0m \u001b[32m━━━━━━━━━━━━━━━━━━━━\u001b[0m\u001b[37m\u001b[0m \u001b[1m93s\u001b[0m 40ms/step - accuracy: 0.8778 - loss: 0.2764 - val_accuracy: 0.8872 - val_loss: 0.2695\n",
      "Epoch 5/20\n",
      "\u001b[1m2344/2344\u001b[0m \u001b[32m━━━━━━━━━━━━━━━━━━━━\u001b[0m\u001b[37m\u001b[0m \u001b[1m93s\u001b[0m 40ms/step - accuracy: 0.8920 - loss: 0.2511 - val_accuracy: 0.8910 - val_loss: 0.2631\n",
      "Epoch 6/20\n",
      "\u001b[1m2344/2344\u001b[0m \u001b[32m━━━━━━━━━━━━━━━━━━━━\u001b[0m\u001b[37m\u001b[0m \u001b[1m93s\u001b[0m 40ms/step - accuracy: 0.9032 - loss: 0.2255 - val_accuracy: 0.9027 - val_loss: 0.2490\n",
      "Epoch 7/20\n",
      "\u001b[1m2344/2344\u001b[0m \u001b[32m━━━━━━━━━━━━━━━━━━━━\u001b[0m\u001b[37m\u001b[0m \u001b[1m99s\u001b[0m 42ms/step - accuracy: 0.9098 - loss: 0.2116 - val_accuracy: 0.8943 - val_loss: 0.2538\n",
      "Epoch 8/20\n",
      "\u001b[1m2344/2344\u001b[0m \u001b[32m━━━━━━━━━━━━━━━━━━━━\u001b[0m\u001b[37m\u001b[0m \u001b[1m98s\u001b[0m 42ms/step - accuracy: 0.9191 - loss: 0.1954 - val_accuracy: 0.9076 - val_loss: 0.2455\n",
      "Epoch 9/20\n",
      "\u001b[1m2344/2344\u001b[0m \u001b[32m━━━━━━━━━━━━━━━━━━━━\u001b[0m\u001b[37m\u001b[0m \u001b[1m94s\u001b[0m 40ms/step - accuracy: 0.9244 - loss: 0.1819 - val_accuracy: 0.9062 - val_loss: 0.2536\n",
      "Epoch 10/20\n",
      "\u001b[1m2344/2344\u001b[0m \u001b[32m━━━━━━━━━━━━━━━━━━━━\u001b[0m\u001b[37m\u001b[0m \u001b[1m94s\u001b[0m 40ms/step - accuracy: 0.9272 - loss: 0.1733 - val_accuracy: 0.9090 - val_loss: 0.2521\n",
      "Epoch 11/20\n",
      "\u001b[1m2344/2344\u001b[0m \u001b[32m━━━━━━━━━━━━━━━━━━━━\u001b[0m\u001b[37m\u001b[0m \u001b[1m95s\u001b[0m 40ms/step - accuracy: 0.9331 - loss: 0.1619 - val_accuracy: 0.9043 - val_loss: 0.2537\n",
      "Epoch 12/20\n",
      "\u001b[1m2344/2344\u001b[0m \u001b[32m━━━━━━━━━━━━━━━━━━━━\u001b[0m\u001b[37m\u001b[0m \u001b[1m95s\u001b[0m 41ms/step - accuracy: 0.9356 - loss: 0.1549 - val_accuracy: 0.9113 - val_loss: 0.2425\n",
      "Epoch 13/20\n",
      "\u001b[1m2344/2344\u001b[0m \u001b[32m━━━━━━━━━━━━━━━━━━━━\u001b[0m\u001b[37m\u001b[0m \u001b[1m97s\u001b[0m 41ms/step - accuracy: 0.9377 - loss: 0.1514 - val_accuracy: 0.9117 - val_loss: 0.2545\n",
      "Epoch 14/20\n",
      "\u001b[1m2344/2344\u001b[0m \u001b[32m━━━━━━━━━━━━━━━━━━━━\u001b[0m\u001b[37m\u001b[0m \u001b[1m98s\u001b[0m 42ms/step - accuracy: 0.9413 - loss: 0.1429 - val_accuracy: 0.9117 - val_loss: 0.2705\n",
      "Epoch 15/20\n",
      "\u001b[1m2344/2344\u001b[0m \u001b[32m━━━━━━━━━━━━━━━━━━━━\u001b[0m\u001b[37m\u001b[0m \u001b[1m104s\u001b[0m 44ms/step - accuracy: 0.9435 - loss: 0.1391 - val_accuracy: 0.9111 - val_loss: 0.2625\n",
      "Epoch 16/20\n",
      "\u001b[1m2344/2344\u001b[0m \u001b[32m━━━━━━━━━━━━━━━━━━━━\u001b[0m\u001b[37m\u001b[0m \u001b[1m101s\u001b[0m 43ms/step - accuracy: 0.9454 - loss: 0.1343 - val_accuracy: 0.9158 - val_loss: 0.2574\n"
     ]
    }
   ],
   "source": [
    "\n",
    "history=model.fit(train_X, train_y, epochs=20, batch_size=32, callbacks=[early_stopping], validation_data=(val_X, val_y))"
   ]
  },
  {
   "cell_type": "markdown",
   "id": "e0dffda8-562f-4493-bbd5-02a7a9c8fc39",
   "metadata": {},
   "source": [
    "**Graphing the model**"
   ]
  },
  {
   "cell_type": "code",
   "execution_count": 125,
   "id": "54a3cd5d-9c90-4134-bbd8-f2a98e741293",
   "metadata": {},
   "outputs": [
    {
     "data": {
      "image/png": "[encoded data removed]",
      "text/plain": [
       "<Figure size 640x480 with 1 Axes>"
      ]
     },
     "metadata": {},
     "output_type": "display_data"
    },
    {
     "data": {
      "image/png": "[encoded data removed]",
      "text/plain": [
       "<Figure size 640x480 with 1 Axes>"
      ]
     },
     "metadata": {},
     "output_type": "display_data"
    }
   ],
   "source": [
    "import matplotlib.pyplot as plt\n",
    "\n",
    "acc = history.history['accuracy']\n",
    "val_acc = history.history['val_accuracy']\n",
    "loss = history.history['loss']\n",
    "val_loss = history.history['val_loss']\n",
    "\n",
    "epochs = range(1, len(acc) + 1)\n",
    "\n",
    "plt.plot(epochs, acc, 'bo', label='Training acc')\n",
    "plt.plot(epochs, val_acc, 'b', label='Validation acc')\n",
    "plt.title('Training and validation accuracy')\n",
    "plt.legend()\n",
    "\n",
    "plt.figure()\n",
    "\n",
    "plt.plot(epochs, loss, 'bo', label='Training loss')\n",
    "plt.plot(epochs, val_loss, 'b', label='Validation loss')\n",
    "plt.title('Training and validation loss')\n",
    "plt.legend()\n",
    "\n",
    "plt.show()"
   ]
  },
  {
   "cell_type": "markdown",
   "id": "a10204df-dd68-476d-aef8-6b2fc24a949b",
   "metadata": {},
   "source": [
    "**Evaluating the model**"
   ]
  },
  {
   "cell_type": "code",
   "execution_count": 127,
   "id": "fb88bcf4-3287-4d8e-91fd-368811148030",
   "metadata": {},
   "outputs": [
    {
     "name": "stdout",
     "output_type": "stream",
     "text": [
      "\n",
      "Test\n",
      "\u001b[1m623/623\u001b[0m \u001b[32m━━━━━━━━━━━━━━━━━━━━\u001b[0m\u001b[37m\u001b[0m \u001b[1m8s\u001b[0m 13ms/step - accuracy: 0.9164 - loss: 0.2169\n",
      "test accuracy: 0.9012\n"
     ]
    }
   ],
   "source": [
    "print ('\\nTest')\n",
    "test_loss, test_acc = model.evaluate(test_X, test_y)\n",
    "print(f'test accuracy: {test_acc:.4f}')"
   ]
  },
  {
   "cell_type": "markdown",
   "id": "090ad7a2-de77-4b1c-a427-ff150d45540d",
   "metadata": {},
   "source": [
    "**Confusion Matrix**"
   ]
  },
  {
   "cell_type": "code",
   "execution_count": null,
   "id": "95917290-92c8-4aa2-9482-95ad24e55baa",
   "metadata": {},
   "outputs": [],
   "source": [
    "from sklearn.metrics import confusion_matrix\n",
    "import numpy as np\n",
    "\n",
    "y_pred=model.predict(test_X)\n",
    "y_pred_classes =(y_pred > 0.5)\n",
    "confmat=confusion_matrix(test_y,y_pred_classes)\n",
    "print(confmat)"
   ]
  },
  {
   "cell_type": "markdown",
   "id": "3a38cf38-04f7-4854-8969-ef6ca079b20f",
   "metadata": {},
   "source": [
    "### **Test Result Log**\n",
    "\n",
    "| Dropout Rate (D) | Accuracy | Epochs | Notes                                              | Tester         | Input Data % | Conv Layers | DenseLayers| size|\n",
    "|------------------|----------|--------|----------------------------------------------------|----------------|--------------|-------------|------------|-----|\n",
    "| –                | 0.8127   | 10     | testing if different sizes make a diffrence.  | Emma   | 30%                  | 2          | 1     | 64 X 64|     \n",
    "| 0.55             | 0.8180| 10     | Significant improvement after increasing dataset.  | Emma          | 30%          | 2          | 100 X 100           |\n",
    "| 0.55             |0.8173| 10     | Slight improvement observed with 0.55 dropout.     | Emma          | 30%          | 2           | 100 X 100           |\n",
    "| 0.4              | 0.8138   | 10     | Matched performance. Is this a good thing?         | Emma          | 96%          | 2          | 128X128          |\n",
    "| 0.3              | 0.8185   | 10     | Slight dip at lower dropout.                       | Emma          | 96%          | 129 dense layer          | 1           |\n",
    "| 0.55             | 0.9004   | 7      | Fewer epochs didn’t improve accuracy.              | Emma           | 96%          | 2          | 1          |\n"
   ]
  },
  {
   "cell_type": "code",
   "execution_count": null,
   "id": "862382a0-9630-4fe9-aacd-a369ea971675",
   "metadata": {},
   "outputs": [],
   "source": []
  }
 ],
 "metadata": {
  "kernelspec": {
   "display_name": "Python 3 (ipykernel)",
   "language": "python",
   "name": "python3"
  },
  "language_info": {
   "codemirror_mode": {
    "name": "ipython",
    "version": 3
   },
   "file_extension": ".py",
   "mimetype": "text/x-python",
   "name": "python",
   "nbconvert_exporter": "python",
   "pygments_lexer": "ipython3",
   "version": "3.12.4"
  }
 },
 "nbformat": 4,
 "nbformat_minor": 5
}
